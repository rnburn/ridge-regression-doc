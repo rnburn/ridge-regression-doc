{
 "cells": [
  {
   "cell_type": "markdown",
   "metadata": {},
   "source": [
    "# Leave-One-Out Cross-Validation and Rotations\n",
    "*This notebook verifies that the Leave-One-Out-Cross-Validation (LOOCV) is sensitive to rotations of the regression problem*"
   ]
  },
  {
   "cell_type": "markdown",
   "metadata": {},
   "source": [
    "## Import Dependencies"
   ]
  },
  {
   "cell_type": "code",
   "execution_count": 1,
   "metadata": {},
   "outputs": [],
   "source": [
    "import numpy as np"
   ]
  },
  {
   "cell_type": "markdown",
   "metadata": {},
   "source": [
    "## Generate Random Data"
   ]
  },
  {
   "cell_type": "code",
   "execution_count": 2,
   "metadata": {},
   "outputs": [],
   "source": [
    "np.random.seed(0)\n",
    "n, p = 25, 3\n",
    "sigma = 0.1\n",
    "X = np.random.random_sample((n, p))\n",
    "beta = np.random.random_sample(p)\n",
    "y = np.dot(X, beta) + np.random.normal(scale=sigma, size=n)\n",
    "Gamma = np.diag(np.random.random_sample(p))"
   ]
  },
  {
   "cell_type": "markdown",
   "metadata": {},
   "source": [
    "## Generate a Random Rotation Matrix"
   ]
  },
  {
   "cell_type": "code",
   "execution_count": 3,
   "metadata": {},
   "outputs": [],
   "source": [
    "def generate_rotation_matrix(n):\n",
    "    result = np.identity(n)\n",
    "    for i in range(n-1):\n",
    "        rotation = np.identity(n)\n",
    "        theta = np.random.uniform()*2*np.pi\n",
    "        rotation[i, i] = np.cos(theta)\n",
    "        rotation[i, i+1] = -np.sin(theta)\n",
    "        rotation[i+1, i] = np.sin(theta)\n",
    "        rotation[i+1, i+1] = np.cos(theta)\n",
    "        result = np.dot(result, rotation)\n",
    "    return result\n",
    "rotation_matrix = generate_rotation_matrix(n)"
   ]
  },
  {
   "cell_type": "markdown",
   "metadata": {},
   "source": [
    "## Compute LOOCV"
   ]
  },
  {
   "cell_type": "code",
   "execution_count": 4,
   "metadata": {},
   "outputs": [],
   "source": [
    "def compute_loocv(X, y, Gamma):\n",
    "    A = np.dot(X.T, X) + np.dot(Gamma.T, Gamma)\n",
    "    A_inv = np.linalg.inv(A)\n",
    "    b_hat = np.dot(A_inv, np.dot(X.T, y))\n",
    "    y_hat = np.dot(X, b_hat)\n",
    "    h = np.array([np.dot(x_i, np.dot(A_inv, x_i)) for x_i in X])\n",
    "    return np.sum(((y - y_hat) / (1 - h))**2) / len(y)"
   ]
  },
  {
   "cell_type": "markdown",
   "metadata": {},
   "source": [
    "## Verify LOOCV is sensitive to rotations"
   ]
  },
  {
   "cell_type": "code",
   "execution_count": 5,
   "metadata": {},
   "outputs": [
    {
     "name": "stdout",
     "output_type": "stream",
     "text": [
      "0.007926 != 0.008100\n"
     ]
    }
   ],
   "source": [
    "loocv = compute_loocv(X, y, Gamma)\n",
    "X_prime = np.dot(rotation_matrix, X)\n",
    "y_prime = np.dot(rotation_matrix, y)\n",
    "loocv_rotated = compute_loocv(X_prime, y_prime, Gamma)\n",
    "print(\"%f != %f\" % (loocv, loocv_rotated))"
   ]
  }
 ],
 "metadata": {
  "kernelspec": {
   "display_name": "Python 3",
   "language": "python",
   "name": "python3"
  },
  "language_info": {
   "codemirror_mode": {
    "name": "ipython",
    "version": 3
   },
   "file_extension": ".py",
   "mimetype": "text/x-python",
   "name": "python",
   "nbconvert_exporter": "python",
   "pygments_lexer": "ipython3",
   "version": "3.7.4"
  }
 },
 "nbformat": 4,
 "nbformat_minor": 2
}
