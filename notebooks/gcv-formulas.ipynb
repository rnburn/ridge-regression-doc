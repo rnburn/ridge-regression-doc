{
 "cells": [
  {
   "cell_type": "markdown",
   "metadata": {},
   "source": [
    "# Generalized Cross-Validation with a Single Variable\n",
    "*This notebook shows the equivalence of two approaches for computing the Generalized Cross-Validation (GCV)*"
   ]
  },
  {
   "cell_type": "markdown",
   "metadata": {},
   "source": [
    "## Import Dependencies"
   ]
  },
  {
   "cell_type": "code",
   "execution_count": 1,
   "metadata": {},
   "outputs": [],
   "source": [
    "import numpy as np"
   ]
  },
  {
   "cell_type": "markdown",
   "metadata": {},
   "source": [
    "## Generate Random Data"
   ]
  },
  {
   "cell_type": "code",
   "execution_count": 2,
   "metadata": {},
   "outputs": [],
   "source": [
    "np.random.seed(0)\n",
    "n, p = 25, 3\n",
    "sigma = 0.1\n",
    "X = np.random.random_sample((n, p))\n",
    "beta = np.random.random_sample(p)\n",
    "y = np.dot(X, beta) + np.random.normal(scale=sigma, size=n)"
   ]
  },
  {
   "cell_type": "markdown",
   "metadata": {},
   "source": [
    "## Compute LOOCV"
   ]
  },
  {
   "cell_type": "code",
   "execution_count": 3,
   "metadata": {},
   "outputs": [],
   "source": [
    "def compute_loocv(X, y, Gamma):\n",
    "    A = np.dot(np.conj(X.T), X).real + np.dot(Gamma.T, Gamma)\n",
    "    A_inv = np.linalg.inv(A)\n",
    "    b_hat = np.dot(A_inv, np.dot(np.conj(X.T), y))\n",
    "    y_hat = np.dot(X, b_hat)\n",
    "    h = np.array([np.dot(x_i.conj(), np.dot(A_inv, x_i)).real for x_i in X])\n",
    "    return np.sum((np.abs(y - y_hat) / (1 - h))**2) / len(y)"
   ]
  },
  {
   "cell_type": "markdown",
   "metadata": {},
   "source": [
    "## Compute GCV Approach 1\n",
    "We first rotate the regression problem, then compute the LOOCV."
   ]
  },
  {
   "cell_type": "code",
   "execution_count": 4,
   "metadata": {},
   "outputs": [],
   "source": [
    "def compute_gcv1(X, y, Gamma):\n",
    "    U, S, Vt = np.linalg.svd(X)\n",
    "    n = len(y)\n",
    "    W = [[np.exp(2j*np.pi*i*j/n) / np.sqrt(n) for j in range(n)] for i in range(n)]\n",
    "    Q = np.dot(W, U.T)\n",
    "    X_prime = np.dot(Q, X)\n",
    "    y_prime = np.dot(Q, y)\n",
    "    return compute_loocv(X_prime, y_prime, Gamma)"
   ]
  },
  {
   "cell_type": "markdown",
   "metadata": {},
   "source": [
    "## Compute GCV Approach 2"
   ]
  },
  {
   "cell_type": "code",
   "execution_count": 5,
   "metadata": {},
   "outputs": [],
   "source": [
    "def compute_gcv2(X, y, Gamma):\n",
    "    A = np.dot(X.T, X) + np.dot(Gamma.T, Gamma)\n",
    "    A_inv = np.linalg.inv(A)\n",
    "    b_hat = np.dot(A_inv, np.dot(X.T, y))\n",
    "    y_pred = np.dot(X, b_hat)\n",
    "    mse = np.mean((y - y_pred)**2)\n",
    "    n = len(y)\n",
    "    h_value = np.trace(np.identity(n) - np.dot(X, np.dot(A_inv, X.T))) / n\n",
    "    return mse / h_value**2"
   ]
  },
  {
   "cell_type": "markdown",
   "metadata": {},
   "source": [
    "## Compare the Two Approaches to Computing GCV\n",
    "Show that the two approaches are equal when using a single regularizer, but not equal for multiple regularizers."
   ]
  },
  {
   "cell_type": "code",
   "execution_count": 6,
   "metadata": {},
   "outputs": [
    {
     "name": "stdout",
     "output_type": "stream",
     "text": [
      "0.008029 ~ 0.008029\n",
      "0.007757 != 0.007772\n"
     ]
    }
   ],
   "source": [
    "# Compare for a single regularizer\n",
    "Gamma = np.identity(p)*np.random.uniform()\n",
    "gcv1 = compute_gcv1(X, y, Gamma)\n",
    "gcv2 = compute_gcv2(X, y, Gamma)\n",
    "print(\"%f ~ %f\" % (gcv1, gcv2))\n",
    "\n",
    "# Compare for multiple regularizers\n",
    "Gamma = np.diag(np.random.uniform(size=p))\n",
    "gcv1 = compute_gcv1(X, y, Gamma)\n",
    "gcv2 = compute_gcv2(X, y, Gamma)\n",
    "print(\"%f != %f\" % (gcv1, gcv2))"
   ]
  }
 ],
 "metadata": {
  "kernelspec": {
   "display_name": "Python 3",
   "language": "python",
   "name": "python3"
  },
  "language_info": {
   "codemirror_mode": {
    "name": "ipython",
    "version": 3
   },
   "file_extension": ".py",
   "mimetype": "text/x-python",
   "name": "python",
   "nbconvert_exporter": "python",
   "pygments_lexer": "ipython3",
   "version": "3.7.4"
  }
 },
 "nbformat": 4,
 "nbformat_minor": 2
}
