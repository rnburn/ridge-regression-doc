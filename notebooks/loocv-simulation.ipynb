{
 "cells": [
  {
   "cell_type": "markdown",
   "metadata": {},
   "source": [
    "# Ridge Regression Simulation\n",
    "*This notebook compares the performance of different forms of ridge regression on simulated regression problems.*"
   ]
  },
  {
   "cell_type": "markdown",
   "metadata": {},
   "source": [
    "## Import Dependencies"
   ]
  },
  {
   "cell_type": "code",
   "execution_count": 1,
   "metadata": {},
   "outputs": [],
   "source": [
    "import numpy as np\n",
    "import scipy\n",
    "from collections import defaultdict\n",
    "from sklearn.linear_model import LinearRegression\n",
    "import matplotlib as mpl\n",
    "import matplotlib.pyplot as plt"
   ]
  },
  {
   "cell_type": "markdown",
   "metadata": {},
   "source": [
    "## Setup Simulation Parameters"
   ]
  },
  {
   "cell_type": "code",
   "execution_count": 2,
   "metadata": {},
   "outputs": [],
   "source": [
    "np.random.seed(1)\n",
    "\n",
    "p = 3\n",
    "beta = np.array([0.001, 0.1, 10.0])\n",
    "feature_sigma = 1.0\n",
    "sigma = 1.0\n",
    "train_sizes = list(range(8, 21))\n",
    "N = 5000"
   ]
  },
  {
   "cell_type": "markdown",
   "metadata": {},
   "source": [
    "## Generate Random Simulation Data"
   ]
  },
  {
   "cell_type": "code",
   "execution_count": 3,
   "metadata": {},
   "outputs": [],
   "source": [
    "def generate_feature_matrix(n):\n",
    "    return np.random.normal(scale=feature_sigma, size=(n, p))\n",
    "\n",
    "def generate_target_vector(X):\n",
    "    y_base = np.dot(X, beta)\n",
    "    return y_base + np.random.normal(scale=sigma, size=X.shape[0])\n",
    "\n",
    "def generate_simulation_data(n):\n",
    "    X_train = generate_feature_matrix(n)\n",
    "    y_train = generate_target_vector(X_train)\n",
    "    X_test = generate_feature_matrix(1)\n",
    "    y_test = generate_target_vector(X_test)\n",
    "    return (X_train, y_train, X_test, y_test)\n",
    "\n",
    "trial_index = 0\n",
    "simulation_data = []\n",
    "for n in train_sizes:\n",
    "    trials = []\n",
    "    for _ in range(N):\n",
    "        trials.append((trial_index, generate_simulation_data(n)))\n",
    "        trial_index += 1\n",
    "    simulation_data.append(trials)"
   ]
  },
  {
   "cell_type": "markdown",
   "metadata": {},
   "source": [
    "## Load pre-fitted ridge regresson parameters\n",
    "A second order optimizer was used to fit ridge regression to the generated regression problems so as to minize the LOOCV for 1 and p regularization parameters.\n",
    "\n",
    "Note: These values are specific to the simulation parameters and the value used to seed the random number generator."
   ]
  },
  {
   "cell_type": "code",
   "execution_count": 4,
   "metadata": {},
   "outputs": [],
   "source": [
    "rr1_params = np.loadtxt('loocv-simulation-rr1-params.txt')\n",
    "rrp_params = np.loadtxt('loocv-simulation-rrp-params.txt')"
   ]
  },
  {
   "cell_type": "markdown",
   "metadata": {},
   "source": [
    "## Verify the Ridge Regression Parameters Represent LOOCV Optimums\n",
    "For each trial, we verify that the loaded ridge regression parameters supply a minimum of the LOOCV error on the training data by walking to neighboring parameters and confirming that we don't find one that's significantly better."
   ]
  },
  {
   "cell_type": "code",
   "execution_count": 5,
   "metadata": {},
   "outputs": [],
   "source": [
    "def compute_loocv(X, y, D):\n",
    "    A = np.dot(X.T, X) + D\n",
    "    A_inv = np.linalg.inv(A)\n",
    "    b_hat = np.dot(A_inv, np.dot(X.T, y))\n",
    "    y_hat = np.dot(X, b_hat)\n",
    "    h = np.array([np.dot(x_i, np.dot(A_inv, x_i)) for x_i in X])\n",
    "    return np.sum(((y - y_hat) / (1 - h))**2)\n",
    "\n",
    "def verify_loocv_opt_1(X, y, alpha):\n",
    "    \"\"\"Verifies that a given single ridge regression regularization is a LOOCV optimum\"\"\"\n",
    "    delta_x = 1.0e-3\n",
    "    def f(x):\n",
    "        return compute_loocv(X, y, np.identity(X.shape[1])*x)\n",
    "    f0 = f(alpha)\n",
    "    for x in [alpha-delta_x, alpha+delta_x]:\n",
    "        x = np.abs(x)\n",
    "        delta_y = f(x) - f0\n",
    "        relative_delta_y = delta_y / delta_x\n",
    "        if relative_delta_y < 0 and np.abs(relative_delta_y) > 1.0e-3:\n",
    "            assert False, \"can't verify optimum\"\n",
    "\n",
    "def verify_loocv_opt_p(X, y, alpha):\n",
    "    \"\"\"Verifies that a given multi ridge regression regularization is a LOOCV optimum\"\"\"\n",
    "    delta_x = 1.0e-3\n",
    "    for i, alpha_i in enumerate(alpha):\n",
    "        def f(x):\n",
    "            alpha_copy = np.array(alpha)\n",
    "            alpha_copy[i] = x\n",
    "            return compute_loocv(X, y, np.diag(alpha_copy))\n",
    "        f0 = f(alpha_i)\n",
    "        for x in [alpha_i - delta_x, alpha_i + delta_x]:\n",
    "            x = np.abs(x)\n",
    "            delta_y = f(x) - f0\n",
    "            relative_delta_y = delta_y / delta_x\n",
    "            if relative_delta_y < 0 and np.abs(relative_delta_y) > 1.0e-3:\n",
    "                assert False, \"can't verify optimum\"\n",
    "                \n",
    "for trial_data in simulation_data:\n",
    "    for trial_index, (X_train, y_train, _, _) in trial_data:\n",
    "        verify_loocv_opt_1(X_train, y_train, rr1_params[trial_index])\n",
    "        verify_loocv_opt_p(X_train, y_train, rrp_params[trial_index])"
   ]
  },
  {
   "cell_type": "markdown",
   "metadata": {},
   "source": [
    "## Fit Ridge Regression"
   ]
  },
  {
   "cell_type": "code",
   "execution_count": 6,
   "metadata": {},
   "outputs": [],
   "source": [
    "def fit_ridge_regression(X, y, alpha):\n",
    "    if isinstance(alpha, float):\n",
    "        alpha = np.ones(X.shape[1])*alpha\n",
    "    A = np.dot(X.T, X) + np.diag(alpha)\n",
    "    A_inv = np.linalg.inv(A)\n",
    "    return np.dot(A_inv, np.dot(X.T, y))"
   ]
  },
  {
   "cell_type": "markdown",
   "metadata": {},
   "source": [
    "## Compute Simulation Statistics\n",
    "We compute means across trial runs and a 95% confidence interval about the means using a t-statistic."
   ]
  },
  {
   "cell_type": "code",
   "execution_count": 7,
   "metadata": {},
   "outputs": [],
   "source": [
    "def compute_simulation_statistics(values):\n",
    "    n = len(values)\n",
    "    mean = np.mean(values)\n",
    "    stddev = np.std(values, ddof=1)\n",
    "    interval = scipy.stats.t.interval(alpha=0.95, df=n-1, scale=stddev/np.sqrt(n))\n",
    "    return (mean, interval[1])"
   ]
  },
  {
   "cell_type": "markdown",
   "metadata": {},
   "source": [
    "## Run Simulation"
   ]
  },
  {
   "cell_type": "code",
   "execution_count": 8,
   "metadata": {},
   "outputs": [],
   "source": [
    "def compute_model_error(model_name, trial):\n",
    "    trial_index, (X_train, y_train, X_test, y_test) = trial\n",
    "    if model_name == 'LS':\n",
    "        model = LinearRegression(fit_intercept=False)\n",
    "        model.fit(X_train, y_train)\n",
    "        y_pred = model.predict(X_test)\n",
    "    elif model_name == \"RR-1\":\n",
    "        alpha = rr1_params[trial_index]\n",
    "        beta_hat = fit_ridge_regression(X_train, y_train, alpha)\n",
    "        y_pred = np.dot(X_test, beta_hat)\n",
    "    elif model_name == \"RR-p\":\n",
    "        alpha = rrp_params[trial_index]\n",
    "        beta_hat = fit_ridge_regression(X_train, y_train, alpha)\n",
    "        y_pred = np.dot(X_test, beta_hat)\n",
    "    return np.abs(y_test[0] - y_pred[0])\n",
    "\n",
    "simulation_results = defaultdict(lambda: defaultdict(list))\n",
    "for trials in simulation_data:\n",
    "    for model_name in ['LS', 'RR-1', 'RR-p']:\n",
    "        errors = []\n",
    "        for trial in trials:\n",
    "            errors.append(compute_model_error(model_name, trial))\n",
    "        error_mean, error_bar = compute_simulation_statistics(errors)\n",
    "        simulation_results[model_name]['mean'].append(error_mean)\n",
    "        simulation_results[model_name]['error_bar'].append(error_bar)"
   ]
  },
  {
   "cell_type": "markdown",
   "metadata": {},
   "source": [
    "## Visualize the Simulation Results"
   ]
  },
  {
   "cell_type": "code",
   "execution_count": 9,
   "metadata": {},
   "outputs": [
    {
     "data": {
      "image/png": "[encoded data removed]",
      "text/plain": [
       "<Figure size 432x288 with 1 Axes>"
      ]
     },
     "metadata": {
      "needs_background": "light"
     },
     "output_type": "display_data"
    }
   ],
   "source": [
    "mpl.rc(\"savefig\", dpi=300)\n",
    "\n",
    "fig = plt.figure()\n",
    "\n",
    "for model_name, simulation in simulation_results.items():\n",
    "    plt.errorbar(train_sizes, simulation['mean'], yerr=simulation['error_bar'], label=model_name)\n",
    "    \n",
    "plt.legend(loc='upper right')\n",
    "plt.xlabel('train size (n)')\n",
    "plt.ylabel('prediction error')\n",
    "plt.show()"
   ]
  }
 ],
 "metadata": {
  "kernelspec": {
   "display_name": "Python 3",
   "language": "python",
   "name": "python3"
  },
  "language_info": {
   "codemirror_mode": {
    "name": "ipython",
    "version": 3
   },
   "file_extension": ".py",
   "mimetype": "text/x-python",
   "name": "python",
   "nbconvert_exporter": "python",
   "pygments_lexer": "ipython3",
   "version": "3.7.4"
  }
 },
 "nbformat": 4,
 "nbformat_minor": 2
}
