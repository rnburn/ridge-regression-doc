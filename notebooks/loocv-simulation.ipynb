{
 "cells": [
  {
   "cell_type": "code",
   "execution_count": 1,
   "metadata": {},
   "outputs": [],
   "source": [
    "import numpy as np\n",
    "import scipy\n",
    "from collections import defaultdict\n",
    "from sklearn.linear_model import LinearRegression\n",
    "\n",
    "# Load pre-computed LOOCV regularization optimums for the simulation data\n",
    "rr1_params = np.loadtxt('loocv-simulation-rr1-params.txt')\n",
    "rrp_params = np.loadtxt('loocv-simulation-rrp-params.txt')\n",
    "\n",
    "np.random.seed(1)\n",
    "\n",
    "p = 3\n",
    "beta = np.array([0.001, 0.1, 10.0])\n",
    "feature_sigma = 1.0\n",
    "sigma = 1.0\n",
    "\n",
    "train_sizes = list(range(8, 21))\n",
    "\n",
    "models = {\n",
    "    'lr' : LinearRegression(fit_intercept=False),\n",
    "    'rr-1' : None, # set a single ridge regression regularizer to optimize the LOOCV (stub, not released yet)\n",
    "    'rr-p' : None, # set multiple ridge regression regularizers to optimize the LOOCV (stub, not released yet)\n",
    "}"
   ]
  },
  {
   "cell_type": "code",
   "execution_count": 2,
   "metadata": {},
   "outputs": [],
   "source": [
    "def generate_feature_matrix(n):\n",
    "    return np.random.normal(scale=feature_sigma, size=(n, p))\n",
    "\n",
    "def generate_target_vector(X):\n",
    "    y_base = np.dot(X, beta)\n",
    "    return y_base + np.random.normal(scale=sigma, size=X.shape[0])"
   ]
  },
  {
   "cell_type": "code",
   "execution_count": 3,
   "metadata": {},
   "outputs": [],
   "source": [
    "def compute_loocv(X, y, D):\n",
    "    A = np.dot(X.T, X) + D\n",
    "    A_inv = np.linalg.inv(A)\n",
    "    b_hat = np.dot(A_inv, np.dot(X.T, y))\n",
    "    y_hat = np.dot(X, b_hat)\n",
    "    h = np.array([np.dot(x_i, np.dot(A_inv, x_i)) for x_i in X])\n",
    "    return np.sum(((y - y_hat) / (1 - h))**2)"
   ]
  },
  {
   "cell_type": "code",
   "execution_count": 4,
   "metadata": {},
   "outputs": [],
   "source": [
    "def verify_loocv_opt_1(X, y, alpha):\n",
    "    \"\"\"Verifies that a given single ridge regression regularization is a LOOCV optimum\"\"\"\n",
    "    delta_x = 1.0e-3\n",
    "    def f(x):\n",
    "        return compute_loocv(X, y, np.identity(X.shape[1])*x)\n",
    "    f0 = f(alpha)\n",
    "    for x in [alpha-delta_x, alpha+delta_x]:\n",
    "        x = np.abs(x)\n",
    "        delta_y = f(x) - f0\n",
    "        relative_delta_y = delta_y / delta_x\n",
    "        if relative_delta_y < 0 and np.abs(relative_delta_y) > 1.0e-3:\n",
    "            assert False, \"can't verify optimum\"\n",
    "\n",
    "def verify_loocv_opt_p(X, y, alpha):\n",
    "    \"\"\"Verifies that a given multi ridge regression regularization is a LOOCV optimum\"\"\"\n",
    "    delta_x = 1.0e-3\n",
    "    for i, alpha_i in enumerate(alpha):\n",
    "        def f(x):\n",
    "            alpha_copy = np.array(alpha)\n",
    "            alpha_copy[i] = x\n",
    "            return compute_loocv(X, y, np.diag(alpha_copy))\n",
    "        f0 = f(alpha_i)\n",
    "        for x in [alpha_i - delta_x, alpha_i + delta_x]:\n",
    "            x = np.abs(x)\n",
    "            delta_y = f(x) - f0\n",
    "            relative_delta_y = delta_y / delta_x\n",
    "            if relative_delta_y < 0 and np.abs(relative_delta_y) > 1.0e-3:\n",
    "                assert False, \"can't verify optimum\""
   ]
  },
  {
   "cell_type": "code",
   "execution_count": 5,
   "metadata": {},
   "outputs": [],
   "source": [
    "def fit_ridge_regression_p(X, y, alpha):\n",
    "    \"\"\"Computes the regressors for an arbitrary diagonal matrix regularization.\"\"\"\n",
    "    A = np.dot(X.T, X) + np.diag(alpha)\n",
    "    A_inv = np.linalg.inv(A)\n",
    "    return np.dot(A_inv, np.dot(X.T, y))"
   ]
  },
  {
   "cell_type": "code",
   "execution_count": 6,
   "metadata": {},
   "outputs": [],
   "source": [
    "rr_param_index = 0\n",
    "\n",
    "def compute_simulation_result(values):\n",
    "    n = len(values)\n",
    "    mean = np.mean(values)\n",
    "    stddev = np.std(values, ddof=1)\n",
    "    interval = scipy.stats.t.interval(alpha=0.95, df=n-1, scale=stddev/np.sqrt(n))\n",
    "    return (mean, interval[1])\n",
    "\n",
    "def run_trial(num_train):\n",
    "    X_train = generate_feature_matrix(num_train)\n",
    "    y_train = generate_target_vector(X_train)\n",
    "    X_test = generate_feature_matrix(1)\n",
    "    y_test = generate_target_vector(X_test)\n",
    "    result = defaultdict(list)\n",
    "    global rr_param_index\n",
    "    for name, model in models.items():\n",
    "        y_pred = None\n",
    "        if name == 'lr':\n",
    "            model.fit(X_train, y_train)\n",
    "            y_pred = model.predict(X_test)[0]\n",
    "        if name == 'rr-1':\n",
    "            alpha = rr1_params[rr_param_index]\n",
    "            verify_loocv_opt_1(X_train, y_train, alpha)\n",
    "            b_hat = fit_ridge_regression_p(X_train, y_train, np.ones(X_train.shape[1])*alpha)\n",
    "            y_pred = np.dot(X_test[0], b_hat)\n",
    "        elif name == 'rr-p':\n",
    "            alpha = rrp_params[rr_param_index]\n",
    "            verify_loocv_opt_p(X_train, y_train, alpha)\n",
    "            b_hat = fit_ridge_regression_p(X_train, y_train, alpha)\n",
    "            y_pred = np.dot(X_test[0], b_hat)\n",
    "        err = y_test - y_pred\n",
    "        result[name].append(np.dot(err, err))\n",
    "    rr_param_index += 1\n",
    "    return result;\n",
    "\n",
    "def run_trials(num_train, num_trials):\n",
    "    simulation = defaultdict(list)\n",
    "    for _ in range(num_trials):\n",
    "        trial_results = run_trial(num_train)\n",
    "        for name, values in trial_results.items():\n",
    "            simulation[name] += [np.sqrt(value) for value in values]\n",
    "    result = {}\n",
    "    for name, values in simulation.items():\n",
    "        result[name] = compute_simulation_result(values)\n",
    "    return result\n",
    "\n",
    "def run_simulations():\n",
    "    global rr_param_index\n",
    "    rr_param_index = 0\n",
    "    np.random.seed(1)\n",
    "    result = defaultdict(lambda: defaultdict(list))\n",
    "    N = 5000\n",
    "    for num_train in train_sizes:\n",
    "        simulation_result = run_trials(num_train, N)\n",
    "        for name, (mean, error_bar) in simulation_result.items():\n",
    "            result[name]['mean'].append(mean)\n",
    "            result[name]['error_bar'].append(error_bar)\n",
    "    return result\n",
    "\n",
    "simulations = run_simulations()"
   ]
  },
  {
   "cell_type": "code",
   "execution_count": 8,
   "metadata": {},
   "outputs": [
    {
     "data": {
      "image/png": "[encoded data removed]",
      "text/plain": [
       "<Figure size 432x288 with 1 Axes>"
      ]
     },
     "metadata": {
      "needs_background": "light"
     },
     "output_type": "display_data"
    }
   ],
   "source": [
    "import numpy as np\n",
    "import matplotlib as mpl\n",
    "import matplotlib.pyplot as plt\n",
    "\n",
    "mpl.rc(\"savefig\", dpi=300)\n",
    "\n",
    "fig = plt.figure()\n",
    "\n",
    "for name, simulation in simulations.items():\n",
    "    plt.errorbar(train_sizes, simulation['mean'], yerr=simulation['error_bar'], label=name)\n",
    "    \n",
    "plt.legend(loc='upper right')\n",
    "plt.show()"
   ]
  }
 ],
 "metadata": {
  "celltoolbar": "Edit Metadata",
  "kernelspec": {
   "display_name": "Python 3",
   "language": "python",
   "name": "python3"
  },
  "language_info": {
   "codemirror_mode": {
    "name": "ipython",
    "version": 3
   },
   "file_extension": ".py",
   "mimetype": "text/x-python",
   "name": "python",
   "nbconvert_exporter": "python",
   "pygments_lexer": "ipython3",
   "version": "3.7.4"
  }
 },
 "nbformat": 4,
 "nbformat_minor": 2
}
