{
 "cells": [
  {
   "cell_type": "markdown",
   "metadata": {},
   "source": [
    "# Compute the LOOCV gradient\n",
    "*This notebook computes the gradient of the leave-one-out cross validation (LOOCV) with respect to its regularization matrix using both exact equations and finite differences. It verifies that the two approaches arrive at the same value.*"
   ]
  },
  {
   "cell_type": "markdown",
   "metadata": {},
   "source": [
    "## Import Dependencies"
   ]
  },
  {
   "cell_type": "code",
   "execution_count": 1,
   "metadata": {},
   "outputs": [],
   "source": [
    "import numpy as np\n",
    "import pandas as pd\n",
    "import scipy.misc"
   ]
  },
  {
   "cell_type": "markdown",
   "metadata": {},
   "source": [
    "## Generate Random Data"
   ]
  },
  {
   "cell_type": "code",
   "execution_count": 2,
   "metadata": {},
   "outputs": [],
   "source": [
    "np.random.seed(0)\n",
    "n, k = 25, 3\n",
    "sigma = 0.1\n",
    "X = np.random.random_sample((n,k))\n",
    "beta = np.random.random_sample(k)\n",
    "y = np.dot(X, beta) + np.random.normal(scale=sigma, size=n)\n",
    "Gamma = np.diag(np.random.random_sample(k))"
   ]
  },
  {
   "cell_type": "markdown",
   "metadata": {},
   "source": [
    "## Compute the LOOCV"
   ]
  },
  {
   "cell_type": "code",
   "execution_count": 3,
   "metadata": {},
   "outputs": [],
   "source": [
    "def compute_loocv(X, y, Gamma):\n",
    "    A = np.dot(X.T, X) + np.dot(Gamma.T, Gamma)\n",
    "    A_inv = np.linalg.inv(A)\n",
    "    b_hat = np.dot(A_inv, np.dot(X.T, y))\n",
    "    y_hat = np.dot(X, b_hat)\n",
    "    h = np.array([np.dot(x_i, np.dot(A_inv, x_i)) for x_i in X])\n",
    "    return np.sum(((y - y_hat) / (1 - h))**2) / len(y)"
   ]
  },
  {
   "cell_type": "markdown",
   "metadata": {},
   "source": [
    "## Compute LOOCV Derivatives using Exact Equations"
   ]
  },
  {
   "cell_type": "code",
   "execution_count": 4,
   "metadata": {},
   "outputs": [],
   "source": [
    "def compute_loocv_derivative(X, y, Gamma, s):\n",
    "    A = np.dot(X.T, X) + np.dot(Gamma.T, Gamma)\n",
    "    A_inv = np.linalg.inv(A)\n",
    "    b_hat = np.dot(A_inv, np.dot(X.T, y))\n",
    "    y_hat = np.dot(X, b_hat)\n",
    "    h = np.array([np.dot(x_i, np.dot(A_inv, x_i)) for x_i in X])\n",
    "    alpha_s = Gamma[s, s]\n",
    "    X_A_inv = np.dot(X, A_inv)\n",
    "    A_inv_X_t_y = np.dot(A_inv, np.dot(X.T, y))\n",
    "    result = 0\n",
    "    for i in range(len(y)):\n",
    "        e_hat_i = (y[i] - y_hat[i]) / (1 - h[i])\n",
    "        d_y_hat_i = -2 * alpha_s * X_A_inv[i, s] * A_inv_X_t_y[s]\n",
    "        d_h_i = -2 * alpha_s * X_A_inv[i, s]**2\n",
    "        d_e_hat_i = (y[i] - y_hat[i]) / (1 - h[i])**2*d_h_i - d_y_hat_i / (1 - h[i])\n",
    "        result += 2*e_hat_i * d_e_hat_i\n",
    "    return result / len(y)"
   ]
  },
  {
   "cell_type": "markdown",
   "metadata": {},
   "source": [
    "## Compute LOOCV Derivatives using Finite Differences"
   ]
  },
  {
   "cell_type": "code",
   "execution_count": 5,
   "metadata": {},
   "outputs": [],
   "source": [
    "def compute_loocv_approx_derivative(X, y, Gamma, s):\n",
    "    def f(x):\n",
    "        Gamma_prime = np.array(Gamma)\n",
    "        Gamma_prime[s, s] = x\n",
    "        return compute_loocv(X, y, Gamma_prime)\n",
    "    return scipy.misc.derivative(f, Gamma[s,s], dx=np.sqrt(np.finfo(float).eps))"
   ]
  },
  {
   "cell_type": "markdown",
   "metadata": {},
   "source": [
    "## Compare the Exact Gradient to the Finite Difference Gradient"
   ]
  },
  {
   "cell_type": "code",
   "execution_count": 6,
   "metadata": {},
   "outputs": [
    {
     "data": {
      "text/html": [
       "<div>\n",
       "<style scoped>\n",
       "    .dataframe tbody tr th:only-of-type {\n",
       "        vertical-align: middle;\n",
       "    }\n",
       "\n",
       "    .dataframe tbody tr th {\n",
       "        vertical-align: top;\n",
       "    }\n",
       "\n",
       "    .dataframe thead th {\n",
       "        text-align: right;\n",
       "    }\n",
       "</style>\n",
       "<table border=\"1\" class=\"dataframe\">\n",
       "  <thead>\n",
       "    <tr style=\"text-align: right;\">\n",
       "      <th></th>\n",
       "      <th>approx</th>\n",
       "      <th>computed</th>\n",
       "    </tr>\n",
       "  </thead>\n",
       "  <tbody>\n",
       "    <tr>\n",
       "      <td>0</td>\n",
       "      <td>-0.000228</td>\n",
       "      <td>-0.000228</td>\n",
       "    </tr>\n",
       "    <tr>\n",
       "      <td>1</td>\n",
       "      <td>0.000771</td>\n",
       "      <td>0.000771</td>\n",
       "    </tr>\n",
       "    <tr>\n",
       "      <td>2</td>\n",
       "      <td>-0.000240</td>\n",
       "      <td>-0.000240</td>\n",
       "    </tr>\n",
       "  </tbody>\n",
       "</table>\n",
       "</div>"
      ],
      "text/plain": [
       "     approx  computed\n",
       "0 -0.000228 -0.000228\n",
       "1  0.000771  0.000771\n",
       "2 -0.000240 -0.000240"
      ]
     },
     "execution_count": 6,
     "metadata": {},
     "output_type": "execute_result"
    }
   ],
   "source": [
    "derivatives = [compute_loocv_derivative(X, y, Gamma, s) for s in range(k)]\n",
    "derivatives_approx = [compute_loocv_approx_derivative(X, y, Gamma, s) for s in range(k)]\n",
    "pd.DataFrame({'approx' : derivatives_approx, 'computed' : derivatives})"
   ]
  }
 ],
 "metadata": {
  "kernelspec": {
   "display_name": "Python 3",
   "language": "python",
   "name": "python3"
  },
  "language_info": {
   "codemirror_mode": {
    "name": "ipython",
    "version": 3
   },
   "file_extension": ".py",
   "mimetype": "text/x-python",
   "name": "python",
   "nbconvert_exporter": "python",
   "pygments_lexer": "ipython3",
   "version": "3.7.4"
  }
 },
 "nbformat": 4,
 "nbformat_minor": 2
}
