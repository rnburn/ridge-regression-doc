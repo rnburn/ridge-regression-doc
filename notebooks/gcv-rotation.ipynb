{
 "cells": [
  {
   "cell_type": "markdown",
   "metadata": {},
   "source": [
    "## Generalized Cross-Valuation Rotation\n",
    "*This notebook demonstrates properties of the rotation matrix used for Generalized Cross-Validation (GCV)* "
   ]
  },
  {
   "cell_type": "markdown",
   "metadata": {},
   "source": [
    "## Import Dependencies"
   ]
  },
  {
   "cell_type": "code",
   "execution_count": 1,
   "metadata": {},
   "outputs": [],
   "source": [
    "import numpy as np"
   ]
  },
  {
   "cell_type": "markdown",
   "metadata": {},
   "source": [
    "## Generate Random Data"
   ]
  },
  {
   "cell_type": "code",
   "execution_count": 2,
   "metadata": {},
   "outputs": [],
   "source": [
    "np.random.seed(0)\n",
    "n, p = 25, 3\n",
    "sigma = 0.1\n",
    "X = np.random.random_sample((n, p))\n",
    "beta = np.random.random_sample(p)\n",
    "y = np.dot(X, beta) + np.random.normal(scale=sigma, size=n)\n",
    "Gamma = np.diag(np.random.random_sample(p))"
   ]
  },
  {
   "cell_type": "markdown",
   "metadata": {},
   "source": [
    "## Compute the GCV Rotation Matrix"
   ]
  },
  {
   "cell_type": "code",
   "execution_count": 3,
   "metadata": {},
   "outputs": [],
   "source": [
    "def compute_gcv_rotation_matrix(X):\n",
    "    U, S, Vt = np.linalg.svd(X)\n",
    "    n = X.shape[0]\n",
    "    W = [[np.exp(2j*np.pi*i*j / n) / np.sqrt(n) for j in range(n)] for i in range(n)]\n",
    "    return np.dot(W, U.T)\n",
    "gcv_rotation_matrix = compute_gcv_rotation_matrix(X)"
   ]
  },
  {
   "cell_type": "markdown",
   "metadata": {},
   "source": [
    "## Verify the GCV Rotation Matrix Circularizes $X' X'^H$"
   ]
  },
  {
   "cell_type": "code",
   "execution_count": 4,
   "metadata": {},
   "outputs": [],
   "source": [
    "X_prime = np.dot(gcv_rotation_matrix, X)\n",
    "K_prime = np.dot(X_prime, np.conj(X_prime.T))\n",
    "k_col_0 = K_prime[:, 0]\n",
    "for j in range(K_prime.shape[0]):\n",
    "    k_col_j = K_prime[:, j]\n",
    "    assert np.allclose(k_col_0, np.roll(k_col_j, -j))"
   ]
  }
 ],
 "metadata": {
  "kernelspec": {
   "display_name": "Python 3",
   "language": "python",
   "name": "python3"
  },
  "language_info": {
   "codemirror_mode": {
    "name": "ipython",
    "version": 3
   },
   "file_extension": ".py",
   "mimetype": "text/x-python",
   "name": "python",
   "nbconvert_exporter": "python",
   "pygments_lexer": "ipython3",
   "version": "3.7.4"
  }
 },
 "nbformat": 4,
 "nbformat_minor": 2
}
