{
 "cells": [
  {
   "cell_type": "markdown",
   "metadata": {},
   "source": [
    "Given feature matrix $X$, target vector $y$, and regularization matrix $\\Gamma$, let \n",
    "\n",
    "$$\\hat{b}_\\Gamma=\\left( X^T X + \\Gamma^T \\Gamma\\right)^{-1}X^T y$$\n",
    "\n",
    "denote the ridge regression model fit to the trainging data and $\\hat{b}_{-i, \\Gamma}$ denote the model fit to the data with the ith entry removed. \n",
    "\n",
    "This notebook verifies that the leave-one-out cross validation\n",
    "\n",
    "$$\\sum_i \\left| y_i - x_i^T \\hat{b}_{-i,\\Gamma} \\right|^2$$\n",
    "\n",
    "can be computed via the more efficient formulation\n",
    "\n",
    "$$\\sum_i \\left| \\frac{y_i - \\hat{y}_i}{1 - h_i} \\right|^2$$\n",
    "\n",
    "where\n",
    "\n",
    "$$\\hat{y} = X \\hat{b}_\\Gamma$$\n",
    "\n",
    "and\n",
    "\n",
    "$$h_i = x_i^T \\left(X^T X + \\Gamma^T \\Gamma\\right)^{-1} x_i$$"
   ]
  },
  {
   "cell_type": "code",
   "execution_count": 1,
   "metadata": {},
   "outputs": [],
   "source": [
    "import numpy as np\n",
    "np.random.seed(0)\n",
    "n, k = 25, 3\n",
    "sigma = 0.1\n",
    "X = np.random.random_sample((n,k))\n",
    "beta = np.random.random_sample(k)\n",
    "y = np.dot(X, beta) + np.random.normal(scale=sigma, size=n)\n",
    "Gamma = np.diag(np.random.random_sample(k))"
   ]
  },
  {
   "cell_type": "code",
   "execution_count": 2,
   "metadata": {},
   "outputs": [],
   "source": [
    "def compute_loocv_slow(X, y, Gamma):\n",
    "    result = 0\n",
    "    for i in range(len(y)):\n",
    "        x_i = X[i,:]\n",
    "        y_i = y[i]\n",
    "        X_mi = np.delete(X, i, 0)\n",
    "        y_mi = np.delete(y, i)\n",
    "        A_mi = np.dot(X_mi.T, X_mi) + np.dot(Gamma.T, Gamma)\n",
    "        b_hat_mi = np.dot(np.linalg.inv(A_mi), np.dot(X_mi.T, y_mi))\n",
    "        y_hat_i = np.dot(x_i, b_hat_mi)\n",
    "        result += (y_i - y_hat_i)**2\n",
    "    return result"
   ]
  },
  {
   "cell_type": "code",
   "execution_count": 3,
   "metadata": {},
   "outputs": [],
   "source": [
    "def compute_loocv(X, y, Gamma):\n",
    "    A = np.dot(X.T, X) + np.dot(Gamma.T, Gamma)\n",
    "    A_inv = np.linalg.inv(A)\n",
    "    b_hat = np.dot(A_inv, np.dot(X.T, y))\n",
    "    y_hat = np.dot(X, b_hat)\n",
    "    h = np.array([np.dot(x_i, np.dot(A_inv, x_i)) for x_i in X])\n",
    "    return np.sum(((y - y_hat) / (1 - h))**2)"
   ]
  },
  {
   "cell_type": "code",
   "execution_count": 4,
   "metadata": {},
   "outputs": [
    {
     "data": {
      "text/plain": [
       "0.1981535144765843"
      ]
     },
     "execution_count": 4,
     "metadata": {},
     "output_type": "execute_result"
    }
   ],
   "source": [
    "compute_loocv_slow(X, y, Gamma)"
   ]
  },
  {
   "cell_type": "code",
   "execution_count": 5,
   "metadata": {},
   "outputs": [
    {
     "data": {
      "text/plain": [
       "0.19815351447658439"
      ]
     },
     "execution_count": 5,
     "metadata": {},
     "output_type": "execute_result"
    }
   ],
   "source": [
    "compute_loocv(X, y, Gamma)"
   ]
  }
 ],
 "metadata": {
  "kernelspec": {
   "display_name": "Python 3",
   "language": "python",
   "name": "python3"
  },
  "language_info": {
   "codemirror_mode": {
    "name": "ipython",
    "version": 3
   },
   "file_extension": ".py",
   "mimetype": "text/x-python",
   "name": "python",
   "nbconvert_exporter": "python",
   "pygments_lexer": "ipython3",
   "version": "3.7.4"
  }
 },
 "nbformat": 4,
 "nbformat_minor": 2
}
