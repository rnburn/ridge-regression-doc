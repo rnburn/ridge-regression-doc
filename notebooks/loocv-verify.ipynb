{
 "cells": [
  {
   "cell_type": "markdown",
   "metadata": {},
   "source": [
    "# Leave-One-Out Cross-Validation\n",
    "\n",
    "For ridge regression, the leave-one-out cross-validation (LOOCV) can be computed using a more efficient formula that avoids repeatedly fitting a model for each data point.\n",
    "\n",
    "*This notebook verifies the more efficient computation against the brute force approach.*"
   ]
  },
  {
   "cell_type": "markdown",
   "metadata": {},
   "source": [
    "## Import Dependencies"
   ]
  },
  {
   "cell_type": "code",
   "execution_count": 1,
   "metadata": {},
   "outputs": [],
   "source": [
    "import numpy as np"
   ]
  },
  {
   "cell_type": "markdown",
   "metadata": {},
   "source": [
    "## Generate Random Data"
   ]
  },
  {
   "cell_type": "code",
   "execution_count": 2,
   "metadata": {},
   "outputs": [],
   "source": [
    "np.random.seed(0)\n",
    "n, p = 25, 3\n",
    "sigma = 0.1\n",
    "X = np.random.random_sample((n, p))\n",
    "beta = np.random.random_sample(p)\n",
    "y = np.dot(X, beta) + np.random.normal(scale=sigma, size=n)\n",
    "Gamma = np.diag(np.random.random_sample(p))"
   ]
  },
  {
   "cell_type": "markdown",
   "metadata": {},
   "source": [
    "## Compute LOOCV the Slow Way"
   ]
  },
  {
   "cell_type": "code",
   "execution_count": 3,
   "metadata": {},
   "outputs": [],
   "source": [
    "def compute_loocv_slow(X, y, Gamma):\n",
    "    result = 0\n",
    "    for i in range(len(y)):\n",
    "        x_i = X[i,:]\n",
    "        y_i = y[i]\n",
    "        X_mi = np.delete(X, i, 0)\n",
    "        y_mi = np.delete(y, i)\n",
    "        A_mi = np.dot(X_mi.T, X_mi) + np.dot(Gamma.T, Gamma)\n",
    "        b_hat_mi = np.dot(np.linalg.inv(A_mi), np.dot(X_mi.T, y_mi))\n",
    "        y_hat_i = np.dot(x_i, b_hat_mi)\n",
    "        result += (y_i - y_hat_i)**2\n",
    "    return result / len(y)"
   ]
  },
  {
   "cell_type": "markdown",
   "metadata": {},
   "source": [
    "## Compute LOOCV the Fast Way"
   ]
  },
  {
   "cell_type": "code",
   "execution_count": 4,
   "metadata": {},
   "outputs": [],
   "source": [
    "def compute_loocv(X, y, Gamma):\n",
    "    A = np.dot(X.T, X) + np.dot(Gamma.T, Gamma)\n",
    "    A_inv = np.linalg.inv(A)\n",
    "    b_hat = np.dot(A_inv, np.dot(X.T, y))\n",
    "    y_hat = np.dot(X, b_hat)\n",
    "    h = np.array([np.dot(x_i, np.dot(A_inv, x_i)) for x_i in X])\n",
    "    return np.sum(((y - y_hat) / (1 - h))**2) / len(y)"
   ]
  },
  {
   "cell_type": "markdown",
   "metadata": {},
   "source": [
    "## Verify Both Approaches Result in the Same Number"
   ]
  },
  {
   "cell_type": "code",
   "execution_count": 5,
   "metadata": {},
   "outputs": [
    {
     "data": {
      "text/plain": [
       "'0.007926 ~ 0.007926'"
      ]
     },
     "execution_count": 5,
     "metadata": {},
     "output_type": "execute_result"
    }
   ],
   "source": [
    "\"%f ~ %f\" % (compute_loocv_slow(X, y, Gamma), compute_loocv(X, y, Gamma))"
   ]
  }
 ],
 "metadata": {
  "kernelspec": {
   "display_name": "Python 3",
   "language": "python",
   "name": "python3"
  },
  "language_info": {
   "codemirror_mode": {
    "name": "ipython",
    "version": 3
   },
   "file_extension": ".py",
   "mimetype": "text/x-python",
   "name": "python",
   "nbconvert_exporter": "python",
   "pygments_lexer": "ipython3",
   "version": "3.7.4"
  }
 },
 "nbformat": 4,
 "nbformat_minor": 2
}
